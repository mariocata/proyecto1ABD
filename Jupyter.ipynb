{
 "cells": [
  {
   "cell_type": "code",
   "execution_count": 4,
   "metadata": {},
   "outputs": [],
   "source": [
    "import pandas as pd\n",
    "from matplotlib import pyplot as plt\n",
    "import psycopg2\n"
   ]
  },
  {
   "cell_type": "code",
   "execution_count": 5,
   "metadata": {},
   "outputs": [],
   "source": [
    "conn = psycopg2.connect(host = 'localhost', user= 'postgres', password ='123456', dbname= 'ABD')\n",
    "cursor = conn.cursor()"
   ]
  },
  {
   "cell_type": "code",
   "execution_count": 6,
   "metadata": {},
   "outputs": [],
   "source": [
    "data=pd.read_sql('''select count(*) as cantidad_de_ingreso,persona.edad as edad,persona.sexo as genero \n",
    "from estadisticas_acceso \n",
    "inner join persona on estadisticas_acceso.id_persona = persona.id_persona\n",
    "where ingreso=true\n",
    "group by edad,sexo\n",
    "order by cantidad_de_ingreso desc limit 5''',conn)\n"
   ]
  },
  {
   "cell_type": "markdown",
   "metadata": {},
   "source": [
    "vista de las top 5 personas que mas entran\n"
   ]
  },
  {
   "cell_type": "code",
   "execution_count": 7,
   "metadata": {},
   "outputs": [
    {
     "name": "stdout",
     "output_type": "stream",
     "text": [
      "top 5 personas que mas ingresan\n",
      "   cantidad_de_ingreso  edad     genero\n",
      "0                    7    61  masculino\n",
      "1                    6     0   femenino\n",
      "2                    6    83   femenino\n",
      "3                    6    48   femenino\n",
      "4                    5    31  masculino\n"
     ]
    }
   ],
   "source": [
    "print('top 5 personas que mas ingresan')\n",
    "print(data)"
   ]
  },
  {
   "cell_type": "code",
   "execution_count": null,
   "metadata": {},
   "outputs": [],
   "source": [
    "vista de porcentaje de ventas a personas con telofono inteligente y sin telefono inteligente"
   ]
  },
  {
   "cell_type": "code",
   "execution_count": 12,
   "metadata": {},
   "outputs": [
    {
     "data": {
      "image/png": "[encoded data removed]",
      "text/plain": [
       "<Figure size 432x288 with 1 Axes>"
      ]
     },
     "metadata": {},
     "output_type": "display_data"
    }
   ],
   "source": [
    "cursor.execute('''select contelf from\n",
    "(select  count(id_venta) as contelf from venta \n",
    "inner join cliente on cliente=id_cliente\n",
    "where cliente.telf is not null) n1,\n",
    "(select  count(id_venta) as sintelf from venta \n",
    "inner join cliente on cliente=id_cliente\n",
    "where cliente.telf is  null) n2,\n",
    "(select  count(id_venta) as total from venta \n",
    "inner join cliente on cliente=id_cliente ) n3\n",
    "''')\n",
    "contelf = cursor.fetchone()[0]\n",
    "cursor.execute('''select sintelf from\n",
    "(select  count(id_venta) as contelf from venta \n",
    "inner join cliente on cliente=id_cliente\n",
    "where cliente.telf is not null) n1,\n",
    "(select  count(id_venta) as sintelf from venta \n",
    "inner join cliente on cliente=id_cliente\n",
    "where cliente.telf is  null) n2,\n",
    "(select  count(id_venta) as total from venta \n",
    "inner join cliente on cliente=id_cliente ) n3\n",
    "''')\n",
    "sintelf = cursor.fetchone()[0]\n",
    "\n",
    "labels = 'Con Telefono', 'Sin Telefono'\n",
    "sizes = [contelf,sintelf]\n",
    "plt.axis('equal')\n",
    "plt.pie(sizes, labels=labels, autopct='%1.1f%%')\n",
    "plt.show()\n",
    "\n",
    "\n",
    "\n"
   ]
  },
  {
   "cell_type": "code",
   "execution_count": null,
   "metadata": {},
   "outputs": [],
   "source": [
    "Lista de Personas con telfono\n"
   ]
  },
  {
   "cell_type": "code",
   "execution_count": null,
   "metadata": {},
   "outputs": [],
   "source": [
    "data=pd.read_sql('''select * from telf_inteligente''',conn)\n",
    "print(data)"
   ]
  },
  {
   "cell_type": "code",
   "execution_count": null,
   "metadata": {},
   "outputs": [],
   "source": [
    "Inserte el id_tefl de la persona que desea conocer su recorrido"
   ]
  },
  {
   "cell_type": "code",
   "execution_count": 17,
   "metadata": {},
   "outputs": [
    {
     "name": "stdout",
     "output_type": "stream",
     "text": [
      "inserte el id_telf 28\n"
     ]
    }
   ],
   "source": [
    "\n",
    "id = input(\"inserte el id_telf \")\n"
   ]
  },
  {
   "cell_type": "code",
   "execution_count": null,
   "metadata": {},
   "outputs": [],
   "source": [
    "Imprimir la tabla"
   ]
  },
  {
   "cell_type": "code",
   "execution_count": 22,
   "metadata": {},
   "outputs": [
    {
     "name": "stdout",
     "output_type": "stream",
     "text": [
      "           nombre  piso                 fecha_hora\n",
      "0  planeta sports     1 2019-06-08 21:27:26.106535\n"
     ]
    }
   ],
   "source": [
    "\n",
    "data=pd.read_sql(\"select nombre,piso,fecha_hora from estadisticas_tienda inner join tienda on id_camara=id_tienda where ingreso = true and id_telf ='%s'\" % id,conn)\n",
    "print(data)"
   ]
  },
  {
   "cell_type": "code",
   "execution_count": 24,
   "metadata": {},
   "outputs": [
    {
     "data": {
      "image/png": "[encoded data removed]",
      "text/plain": [
       "<Figure size 432x288 with 1 Axes>"
      ]
     },
     "metadata": {
      "needs_background": "light"
     },
     "output_type": "display_data"
    }
   ],
   "source": [
    "data=pd.read_sql('''select centrocomercial.nombre as nombre_cc,acceso.ubicacion as entrada,count(ingreso) as entraron \n",
    "from estadisticas_acceso   \n",
    "inner join camara_acc on estadisticas_acceso.id_camara=camara_acc.id_camara_acc\n",
    "inner join acceso on acceso.id_acc=camara_acc.id_acceso\n",
    "inner join centrocomercial on acceso.cc=centrocomercial.id_cc\n",
    "where ingreso=true\n",
    "group by  nombre_cc,entrada''',conn)\n",
    "plt.bar(data.entrada,data.entraron)\n",
    "plt.title('personas que entran al cc por accesos')\n",
    "plt.show()"
   ]
  },
  {
   "cell_type": "code",
   "execution_count": 26,
   "metadata": {},
   "outputs": [
    {
     "data": {
      "image/png": "[encoded data removed]",
      "text/plain": [
       "<Figure size 432x288 with 1 Axes>"
      ]
     },
     "metadata": {
      "needs_background": "light"
     },
     "output_type": "display_data"
    }
   ],
   "source": [
    "data=pd.read_sql('''select centrocomercial.nombre as nombre_cc,acceso.ubicacion as entrada,count(ingreso) as salieron \n",
    "from estadisticas_acceso   \n",
    "inner join camara_acc on estadisticas_acceso.id_camara=camara_acc.id_camara_acc\n",
    "inner join acceso on acceso.id_acc=camara_acc.id_acceso\n",
    "inner join centrocomercial on acceso.cc=centrocomercial.id_cc\n",
    "where ingreso=false\n",
    "group by  nombre_cc,entrada''',conn)\n",
    "plt.bar(data.entrada,data.salieron)\n",
    "plt.title('personas que salen al cc por accesos')\n",
    "plt.show()"
   ]
  },
  {
   "cell_type": "code",
   "execution_count": 33,
   "metadata": {},
   "outputs": [
    {
     "data": {
      "image/png": "[encoded data removed]",
      "text/plain": [
       "<Figure size 432x288 with 1 Axes>"
      ]
     },
     "metadata": {
      "needs_background": "light"
     },
     "output_type": "display_data"
    }
   ],
   "source": [
    "data=pd.read_sql('''select nombre,piso,sum(monto) as vendido from venta \n",
    "inner join tienda on tienda.id_tienda=venta.id_tienda\n",
    "group by tienda.nombre,piso\n",
    "order by vendido desc''',conn)\n",
    "fig, ax = plt.subplots()\n",
    "ax.barh(data.nombre, data.vendido, align='center')\n",
    "ax.set_title('ingresos por tienda')\n",
    "ax.set_xlabel('monto')\n",
    "plt.show()\n"
   ]
  },
  {
   "cell_type": "code",
   "execution_count": 9,
   "metadata": {},
   "outputs": [
    {
     "data": {
      "image/png": "[encoded data removed]",
      "text/plain": [
       "<Figure size 432x288 with 1 Axes>"
      ]
     },
     "metadata": {
      "needs_background": "light"
     },
     "output_type": "display_data"
    }
   ],
   "source": [
    "data=pd.read_sql('''select nombre,piso,count(*) as ingresos from estadisticas_tienda \n",
    "inner join tienda on tienda.id_tienda=estadisticas_tienda.id_camara\n",
    "group by tienda.nombre,piso\n",
    "order by ingresos desc''',conn)\n",
    "fig, ax = plt.subplots()\n",
    "ax.barh(data.nombre, data.ingresos, align='center')\n",
    "ax.set_title('tiendas mas visitadas')\n",
    "ax.set_xlabel('visitas')\n",
    "plt.show()\n"
   ]
  },
  {
   "cell_type": "code",
   "execution_count": null,
   "metadata": {},
   "outputs": [],
   "source": [
    "Clientes que mas han comprado"
   ]
  },
  {
   "cell_type": "code",
   "execution_count": 11,
   "metadata": {},
   "outputs": [
    {
     "name": "stdout",
     "output_type": "stream",
     "text": [
      "                nombre    cedula   monto\n",
      "0         Susana Jones  16931701  361792\n",
      "1  Jacqueline Davidson  27450312  308784\n",
      "2          Paul Cortez  15792343   97680\n",
      "3       Michael Menard  18354056   97366\n",
      "4        Maria Serrano  27041348   96508\n",
      "5         Tina Prosser   1847446   94679\n",
      "6           Gary Moore    642084   94068\n",
      "7            Mary West  25390197   93605\n",
      "8        Brian Gardner  27373347   92095\n",
      "9         Sue Woodward  24569499   91051\n"
     ]
    }
   ],
   "source": [
    "data=pd.read_sql('''select nombre,cedula,sum(monto) as monto from venta \n",
    "inner join cliente on cliente.id_cliente=venta.cliente\n",
    "group by nombre,cedula\n",
    "order by monto desc\n",
    "limit 10''',conn)\n",
    "print(data)"
   ]
  },
  {
   "cell_type": "code",
   "execution_count": null,
   "metadata": {},
   "outputs": [],
   "source": []
  }
 ],
 "metadata": {
  "kernelspec": {
   "display_name": "Python 3",
   "language": "python",
   "name": "python3"
  },
  "language_info": {
   "codemirror_mode": {
    "name": "ipython",
    "version": 3
   },
   "file_extension": ".py",
   "mimetype": "text/x-python",
   "name": "python",
   "nbconvert_exporter": "python",
   "pygments_lexer": "ipython3",
   "version": "3.7.3"
  }
 },
 "nbformat": 4,
 "nbformat_minor": 2
}
